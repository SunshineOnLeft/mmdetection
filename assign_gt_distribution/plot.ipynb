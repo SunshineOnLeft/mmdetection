{
 "metadata": {
  "language_info": {
   "codemirror_mode": {
    "name": "ipython",
    "version": 3
   },
   "file_extension": ".py",
   "mimetype": "text/x-python",
   "name": "python",
   "nbconvert_exporter": "python",
   "pygments_lexer": "ipython3",
   "version": "3.7.1-final"
  },
  "orig_nbformat": 2,
  "kernelspec": {
   "name": "python3",
   "display_name": "Python 3",
   "language": "python"
  }
 },
 "nbformat": 4,
 "nbformat_minor": 2,
 "cells": [
  {
   "cell_type": "markdown",
   "metadata": {},
   "source": [
    "# Get Start\n",
    "## Configs\n",
    "`--data_set` choose the data set: `ESR` (Epileptic_Seizure_Recognition_Data_Set) | `CER` (Computer_Error_Report_Data_Set)<br>\n",
    "`--num_points` determine the number of data for clustering. `default = -1` for whole data<br>\n",
    "`--cluster` choose the cluster algorithm: `KMeans` | `KMediod` | `CURE` | `DBSCAN`<br>\n",
    "`--parameters` parameters for cluster algorithm: KMeans:`[K, N]` | KMediod:`[K, N]` | CURE:`[numRepPoints, numDesCluster, alpha]` | DBSCAN:`[eps, minPts]`\n",
    "## Examples 1\n",
    "To cluster on <u>Epileptic_Seizure_Recognition_Data_Set</u> for <u>5000</u> data using <u>DBSCAN</u> within setting of eps=<u>310</u>, minPts=<u>5</u>, run the command in 120106010797\\_杨凌风/<br>\n",
    "`python main.py --data_set ESR --num_points 5000 --cluster DBSCAN --parameters 310 5`"
   ]
  },
  {
   "cell_type": "code",
   "execution_count": null,
   "metadata": {},
   "outputs": [],
   "source": [
    "!python plot.py"
   ]
  },
  {
   "cell_type": "code",
   "execution_count": null,
   "metadata": {},
   "outputs": [],
   "source": []
  }
 ]
}